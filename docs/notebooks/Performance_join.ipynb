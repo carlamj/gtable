{
 "cells": [
  {
   "cell_type": "code",
   "execution_count": 1,
   "metadata": {
    "collapsed": true
   },
   "outputs": [],
   "source": [
    "import pandas as pd\n",
    "import gtable as gt\n",
    "import numpy as np\n",
    "\n",
    "df1 = pd.DataFrame({'A': ['A0', 'A1', 'A2', 'A3'],\n",
    "                    'B': ['B0', 'B1', 'B2', 'B3'],\n",
    "                    'C': ['C0', 'C1', 'C2', 'C3'],\n",
    "                    'D': ['D0', 'D1', 'D2', 'D3']},\n",
    "                    index=[0, 1, 2, 3])\n",
    "\n",
    "\n",
    "df2 = pd.DataFrame({'A': ['A4', 'A5', 'A6', 'A7'],\n",
    "                    'B': ['B4', 'B5', 'B6', 'B7'],\n",
    "                    'C': ['C4', 'C5', 'C6', 'C7'],\n",
    "                    'D': ['D4', 'D5', 'D6', 'D7']},\n",
    "                     index=[4, 5, 6, 7])\n",
    "\n",
    "t1 = gt.Table({'A': ['A0', 'A1', 'A2', 'A3'],\n",
    "               'B': ['B0', 'B1', 'B2', 'B3'],\n",
    "               'C': ['C0', 'C1', 'C2', 'C3'],\n",
    "               'D': ['D0', 'D1', 'D2', 'D3'],\n",
    "               'idx': [1, 2, 3, 4]})\n",
    "\n",
    "t2 = gt.Table({'A': ['A4', 'A5', 'A6', 'A7'],\n",
    "               'B': ['B4', 'B5', 'B6', 'B7'],\n",
    "               'C': ['C4', 'C5', 'C6', 'C7'],\n",
    "               'D': ['D4', 'D5', 'D6', 'D7'],\n",
    "               'idx': [5, 6, 7, 8]})\n"
   ]
  },
  {
   "cell_type": "code",
   "execution_count": 2,
   "metadata": {},
   "outputs": [
    {
     "name": "stdout",
     "output_type": "stream",
     "text": [
      "471 µs ± 37.6 µs per loop (mean ± std. dev. of 7 runs, 1000 loops each)\n"
     ]
    }
   ],
   "source": [
    "%%timeit\n",
    "pd.concat([df1, df2])"
   ]
  },
  {
   "cell_type": "code",
   "execution_count": 3,
   "metadata": {},
   "outputs": [
    {
     "name": "stdout",
     "output_type": "stream",
     "text": [
      "124 µs ± 1.3 µs per loop (mean ± std. dev. of 7 runs, 10000 loops each)\n"
     ]
    }
   ],
   "source": [
    "%%timeit\n",
    "gt.full_outer_join(t1, t2, 'idx', check_sorted=False)"
   ]
  },
  {
   "cell_type": "code",
   "execution_count": 4,
   "metadata": {},
   "outputs": [],
   "source": [
    "df1 = pd.DataFrame({'A': np.random.rand(100),\n",
    "                    'B': np.random.rand(100),\n",
    "                    'C': np.random.rand(100),\n",
    "                    'D': np.random.rand(100),\n",
    "                    'E': np.random.rand(100),\n",
    "                    'F': np.random.rand(100),\n",
    "                    'G': np.random.rand(100)},\n",
    "                   index=np.arange(100))\n",
    "\n",
    "df2 = pd.DataFrame({'A': np.random.rand(100),\n",
    "                    'G': np.random.rand(100)},\n",
    "                   index=np.arange(100, 200))"
   ]
  },
  {
   "cell_type": "code",
   "execution_count": 5,
   "metadata": {},
   "outputs": [
    {
     "name": "stdout",
     "output_type": "stream",
     "text": [
      "1.01 ms ± 69 µs per loop (mean ± std. dev. of 7 runs, 1000 loops each)\n"
     ]
    }
   ],
   "source": [
    "%%timeit\n",
    "pd.concat([df1, df2])"
   ]
  },
  {
   "cell_type": "code",
   "execution_count": 6,
   "metadata": {},
   "outputs": [],
   "source": [
    "t1 = gt.Table({'A': np.random.rand(100),\n",
    "               'B': np.random.rand(100),\n",
    "               'C': np.random.rand(100),\n",
    "               'D': np.random.rand(100),\n",
    "               'E': np.random.rand(100),\n",
    "               'F': np.random.rand(100),\n",
    "               'G': np.random.rand(100),\n",
    "               'idx': np.arange(100)})\n",
    "\n",
    "t2 = gt.Table({'A': np.random.rand(100),\n",
    "               'G': np.random.rand(100),\n",
    "               'idx': np.arange(100, 200)})"
   ]
  },
  {
   "cell_type": "code",
   "execution_count": 7,
   "metadata": {},
   "outputs": [
    {
     "name": "stdout",
     "output_type": "stream",
     "text": [
      "174 µs ± 8.56 µs per loop (mean ± std. dev. of 7 runs, 10000 loops each)\n"
     ]
    }
   ],
   "source": [
    "%%timeit\n",
    "gt.full_outer_join(t1, t2, 'idx', check_sorted=False)"
   ]
  },
  {
   "cell_type": "code",
   "execution_count": 8,
   "metadata": {},
   "outputs": [],
   "source": [
    "df1 = pd.DataFrame({'A': np.random.rand(100000),\n",
    "                    'B': np.random.rand(100000),\n",
    "                    'C': np.random.rand(100000)},\n",
    "                   index=np.arange(100000))\n",
    "\n",
    "df2 = pd.DataFrame({'A': np.random.rand(100000),\n",
    "                    'B': np.random.rand(100000),\n",
    "                    'C': np.random.rand(100000)},\n",
    "                   index=np.arange(100000, 200000))"
   ]
  },
  {
   "cell_type": "code",
   "execution_count": 9,
   "metadata": {},
   "outputs": [
    {
     "name": "stdout",
     "output_type": "stream",
     "text": [
      "2.47 ms ± 384 µs per loop (mean ± std. dev. of 7 runs, 100 loops each)\n"
     ]
    }
   ],
   "source": [
    "%%timeit\n",
    "pd.concat([df1, df2])"
   ]
  },
  {
   "cell_type": "code",
   "execution_count": 10,
   "metadata": {
    "collapsed": true
   },
   "outputs": [],
   "source": [
    "t1 = gt.Table({'A': np.random.rand(100000),\n",
    "               'B': np.random.rand(100000),\n",
    "               'C': np.random.rand(100000),\n",
    "               'idx': np.arange(100000)})\n",
    "\n",
    "t2 = gt.Table({'A': np.random.rand(100000),\n",
    "               'B': np.random.rand(100000),\n",
    "               'C': np.random.rand(100000),\n",
    "               'idx': np.arange(100000, 200000)})"
   ]
  },
  {
   "cell_type": "code",
   "execution_count": 11,
   "metadata": {},
   "outputs": [
    {
     "name": "stdout",
     "output_type": "stream",
     "text": [
      "26.5 ms ± 157 µs per loop (mean ± std. dev. of 7 runs, 10 loops each)\n"
     ]
    }
   ],
   "source": [
    "%%timeit\n",
    "gt.full_outer_join(t1, t2, 'idx', check_sorted=False)"
   ]
  },
  {
   "cell_type": "code",
   "execution_count": null,
   "metadata": {
    "collapsed": true
   },
   "outputs": [],
   "source": []
  }
 ],
 "metadata": {
  "kernelspec": {
   "display_name": "Python 3",
   "language": "python",
   "name": "python3"
  },
  "language_info": {
   "codemirror_mode": {
    "name": "ipython",
    "version": 3
   },
   "file_extension": ".py",
   "mimetype": "text/x-python",
   "name": "python",
   "nbconvert_exporter": "python",
   "pygments_lexer": "ipython3",
   "version": "3.6.2"
  }
 },
 "nbformat": 4,
 "nbformat_minor": 2
}
